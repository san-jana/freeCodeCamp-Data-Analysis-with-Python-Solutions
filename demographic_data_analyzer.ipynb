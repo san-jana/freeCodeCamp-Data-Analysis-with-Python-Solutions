{
 "cells": [
  {
   "cell_type": "code",
   "execution_count": 10,
   "id": "e2a67a30",
   "metadata": {},
   "outputs": [],
   "source": [
    "import pandas as pd\n",
    "import numpy as np"
   ]
  },
  {
   "cell_type": "code",
   "execution_count": 6,
   "id": "138dbaed",
   "metadata": {},
   "outputs": [],
   "source": [
    "df = pd.read_csv(r\"C:\\Users\\Somu\\Desktop\\CDAC\\adult.data.csv\")"
   ]
  },
  {
   "cell_type": "code",
   "execution_count": 7,
   "id": "626077b4",
   "metadata": {},
   "outputs": [],
   "source": [
    "# How many of each race are represented in this dataset? This should be a Pandas series with race names as the index labels.\n",
    "race_count = df['race'].value_counts()"
   ]
  },
  {
   "cell_type": "code",
   "execution_count": 155,
   "id": "1231e052",
   "metadata": {},
   "outputs": [],
   "source": [
    "# What is the average age of men?\n",
    "average_age_men = round(df[df['sex'] == 'Male']['age'].mean(),1)"
   ]
  },
  {
   "cell_type": "code",
   "execution_count": 156,
   "id": "06dc4587",
   "metadata": {},
   "outputs": [],
   "source": [
    "# What is the percentage of people who have a Bachelor's degree?\n",
    "percentage_bachelors = round((df[df['education'] == 'Bachelors'].shape[0]/df.shape[0])*100,1)"
   ]
  },
  {
   "cell_type": "code",
   "execution_count": 157,
   "id": "07faba59",
   "metadata": {},
   "outputs": [],
   "source": [
    "# What percentage of people with advanced education (`Bachelors`, `Masters`, or `Doctorate`) make more than 50K?\n",
    "# What percentage of people without advanced education make more than 50K?\n",
    "# with and without `Bachelors`, `Masters`, or `Doctorate`"
   ]
  },
  {
   "cell_type": "code",
   "execution_count": 158,
   "id": "ae2e3deb",
   "metadata": {},
   "outputs": [],
   "source": [
    "# What percentage of people with advanced education (`Bachelors`, `Masters`, or `Doctorate`) make more than 50K?\n",
    "\n",
    "# higher_education = df[df['education'].isin(['Bachelors', 'Masters', 'Doctorate'])]\n",
    "# OR\n",
    "higher_education = pd.concat([df[df[\"education\"]==\"Bachelors\"],df[df[\"education\"]==\"Masters\"],df[df[\"education\"]==\"Doctorate\"]])\n",
    "\n",
    "# percentage with salary >50K\n",
    "higher_education_rich = round(len(higher_education[higher_education['salary'] == '>50K'])/len(higher_education)*100,1)"
   ]
  },
  {
   "cell_type": "code",
   "execution_count": 159,
   "id": "e655d5c4",
   "metadata": {},
   "outputs": [],
   "source": [
    "# What percentage of people without advanced education make more than 50K?\n",
    "lower_education = df[~df['education'].isin(['Bachelors', 'Masters', 'Doctorate'])]\n",
    "\n",
    "# percentage with salary >50K\n",
    "lower_education_rich = round(len(lower_education[lower_education['salary'] == '>50K'])/len(lower_education)*100, 1)"
   ]
  },
  {
   "cell_type": "code",
   "execution_count": 73,
   "id": "65cbb413",
   "metadata": {},
   "outputs": [],
   "source": [
    "# What is the minimum number of hours a person works per week (hours-per-week feature)?\n",
    "min_work_hours = min(df['hours-per-week'])"
   ]
  },
  {
   "cell_type": "code",
   "execution_count": 83,
   "id": "540cf1b7",
   "metadata": {},
   "outputs": [],
   "source": [
    "# What percentage of the people who work the minimum number of hours per week have a salary of >50K?\n",
    "num_min_workers = len(df[df['hours-per-week'] == min_work_hours])\n",
    "rich_percentage = round(len(df[(df['hours-per-week'] == min_work_hours) & (df['salary'] == '>50K')])/num_min_workers*100,1)"
   ]
  },
  {
   "cell_type": "code",
   "execution_count": 89,
   "id": "56a956ea",
   "metadata": {},
   "outputs": [],
   "source": [
    "# What country has the highest percentage of people that earn >50K?\n",
    "country_groups = df.groupby('native-country')"
   ]
  },
  {
   "cell_type": "code",
   "execution_count": 96,
   "id": "6ee117b3",
   "metadata": {},
   "outputs": [],
   "source": [
    "rich_by_country = {}\n",
    "\n",
    "for country, group in country_groups:\n",
    "    rich_by_country[country] = round(len(group[group['salary'] == '>50K'])/len(group)*100,1)"
   ]
  },
  {
   "cell_type": "code",
   "execution_count": 136,
   "id": "60486b50",
   "metadata": {},
   "outputs": [],
   "source": [
    "rich_country = \",\".join([country for (country, percent) in rich_by_country.items() if percent == max(rich_by_country.values())])"
   ]
  },
  {
   "cell_type": "code",
   "execution_count": 153,
   "id": "1dd22b9e",
   "metadata": {
    "scrolled": true
   },
   "outputs": [],
   "source": [
    " # Identify the most popular occupation for those who earn >50K in India.\n",
    "top_IN_occupation = df[(df['native-country'] == 'India') & (df['salary'] == '>50K')]['occupation'].value_counts().index[0]"
   ]
  }
 ],
 "metadata": {
  "kernelspec": {
   "display_name": "Python 3 (ipykernel)",
   "language": "python",
   "name": "python3"
  },
  "language_info": {
   "codemirror_mode": {
    "name": "ipython",
    "version": 3
   },
   "file_extension": ".py",
   "mimetype": "text/x-python",
   "name": "python",
   "nbconvert_exporter": "python",
   "pygments_lexer": "ipython3",
   "version": "3.11.5"
  }
 },
 "nbformat": 4,
 "nbformat_minor": 5
}
